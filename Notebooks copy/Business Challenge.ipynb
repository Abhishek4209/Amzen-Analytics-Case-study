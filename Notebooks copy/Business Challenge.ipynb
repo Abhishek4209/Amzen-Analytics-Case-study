{
 "cells": [
  {
   "cell_type": "markdown",
   "metadata": {},
   "source": [
    "## **Business Challenge:**\n",
    "#### Amzen does not expect any new addition to their customer base due to above new scenario and they are entirely focused to retain existing customer base. They consider patient treatment status, Copay usage and adherence to therapy as crucial variable that could drive this analysis. Amzen wants to get possible answer to below mentioned problems:\n",
    "### 1.\tThe client wants to estimate slippage of the patients from their system.\n",
    "### 2.\tSuggest possible approach to lower down the patient’s slippage, so to minimize overall loss.\n",
    "### 3.\tWeekly list Potential existing customers to be targeted.\n",
    "### 4.\tDesign a new/alternative copay scheme, which could be better used by the patients.\n"
   ]
  },
  {
   "cell_type": "code",
   "execution_count": null,
   "metadata": {},
   "outputs": [
    {
     "ename": "",
     "evalue": "",
     "output_type": "error",
     "traceback": [
      "\u001b[1;31mRunning cells with 'd:\\Amzen Problem HFCL\\venv\\python.exe' requires the ipykernel package.\n",
      "\u001b[1;31mRun the following command to install 'ipykernel' into the Python environment. \n",
      "\u001b[1;31mCommand: 'conda install -p d:\\Amzen Problem HFCL\\venv ipykernel --update-deps --force-reinstall'"
     ]
    }
   ],
   "source": [
    "import pandas as pd\n",
    "import numpy as np\n",
    "import seaborn as sns\n",
    "import matplotlib.pyplot as plt\n",
    "%matplotlib inline\n",
    "import pandas as pd\n",
    "from datetime import datetime"
   ]
  },
  {
   "cell_type": "code",
   "execution_count": null,
   "metadata": {},
   "outputs": [
    {
     "ename": "",
     "evalue": "",
     "output_type": "error",
     "traceback": [
      "\u001b[1;31mRunning cells with 'd:\\Amzen Problem HFCL\\venv\\python.exe' requires the ipykernel package.\n",
      "\u001b[1;31mRun the following command to install 'ipykernel' into the Python environment. \n",
      "\u001b[1;31mCommand: 'conda install -p d:\\Amzen Problem HFCL\\venv ipykernel --update-deps --force-reinstall'"
     ]
    }
   ],
   "source": [
    "data = pd.read_excel(r\"D:\\Amzen Problem HFCL\\Notebooks copy\\data\\copay data2.xls\")\n",
    "data.head()"
   ]
  },
  {
   "cell_type": "code",
   "execution_count": null,
   "metadata": {},
   "outputs": [
    {
     "ename": "",
     "evalue": "",
     "output_type": "error",
     "traceback": [
      "\u001b[1;31mRunning cells with 'd:\\Amzen Problem HFCL\\venv\\python.exe' requires the ipykernel package.\n",
      "\u001b[1;31mRun the following command to install 'ipykernel' into the Python environment. \n",
      "\u001b[1;31mCommand: 'conda install -p d:\\Amzen Problem HFCL\\venv ipykernel --update-deps --force-reinstall'"
     ]
    }
   ],
   "source": [
    "data.shape"
   ]
  },
  {
   "cell_type": "markdown",
   "metadata": {},
   "source": [
    "### ➡️Q1.\tThe client wants to estimate slippage of the patients from their system."
   ]
  },
  {
   "cell_type": "markdown",
   "metadata": {},
   "source": [
    "### Ans:-"
   ]
  },
  {
   "cell_type": "markdown",
   "metadata": {},
   "source": [
    "##### Identify the last refill date for each patient and determine if there is a subsequent refill date.\n",
    "##### Calculate the time difference between the last refill date and the next refill date.\n",
    "##### Calculate the Copay ammount for every given pat_id.\n",
    "\n",
    "##### Determine a threshold for what is considered a 'slip' .\n",
    "\n",
    "##### Count the number of patients who have slipped according to the threshold."
   ]
  },
  {
   "cell_type": "code",
   "execution_count": null,
   "metadata": {},
   "outputs": [
    {
     "ename": "",
     "evalue": "",
     "output_type": "error",
     "traceback": [
      "\u001b[1;31mRunning cells with 'd:\\Amzen Problem HFCL\\venv\\python.exe' requires the ipykernel package.\n",
      "\u001b[1;31mRun the following command to install 'ipykernel' into the Python environment. \n",
      "\u001b[1;31mCommand: 'conda install -p d:\\Amzen Problem HFCL\\venv ipykernel --update-deps --force-reinstall'"
     ]
    }
   ],
   "source": [
    "from datetime import datetime\n",
    "data['Refill_date'] = pd.to_datetime(data['Refill_date'])\n",
    "data['Next_refill_date'] = pd.to_datetime(data['Next_refill_date'], errors='coerce')"
   ]
  },
  {
   "cell_type": "markdown",
   "metadata": {},
   "source": [
    "### Calculate the difference in days between the refill date and the next refill date.\n",
    "### Drop rows where next refill date is NaT (not a time) or where the next refill date is before the refill date. "
   ]
  },
  {
   "cell_type": "code",
   "execution_count": null,
   "metadata": {},
   "outputs": [
    {
     "ename": "",
     "evalue": "",
     "output_type": "error",
     "traceback": [
      "\u001b[1;31mRunning cells with 'd:\\Amzen Problem HFCL\\venv\\python.exe' requires the ipykernel package.\n",
      "\u001b[1;31mRun the following command to install 'ipykernel' into the Python environment. \n",
      "\u001b[1;31mCommand: 'conda install -p d:\\Amzen Problem HFCL\\venv ipykernel --update-deps --force-reinstall'"
     ]
    }
   ],
   "source": [
    "slippage_data = data.dropna(subset=['Next_refill_date'])\n",
    "slippage_data = slippage_data[slippage_data['Next_refill_date'] > slippage_data['Refill_date']]\n",
    "slippage_data['days_to_next_refill'] = (slippage_data['Next_refill_date'] - slippage_data['Refill_date']).dt.days"
   ]
  },
  {
   "cell_type": "code",
   "execution_count": null,
   "metadata": {},
   "outputs": [
    {
     "ename": "",
     "evalue": "",
     "output_type": "error",
     "traceback": [
      "\u001b[1;31mRunning cells with 'd:\\Amzen Problem HFCL\\venv\\python.exe' requires the ipykernel package.\n",
      "\u001b[1;31mRun the following command to install 'ipykernel' into the Python environment. \n",
      "\u001b[1;31mCommand: 'conda install -p d:\\Amzen Problem HFCL\\venv ipykernel --update-deps --force-reinstall'"
     ]
    }
   ],
   "source": [
    "plt.figure(figsize=(10, 6))\n",
    "sns.countplot(x='days_to_next_refill', data=slippage_data)\n",
    "plt.title(\"days_to_next_refill\",c=\"r\")\n",
    "plt.xlabel(\"days\")\n",
    "plt.ylabel('Count')\n",
    "plt.show()"
   ]
  },
  {
   "cell_type": "code",
   "execution_count": null,
   "metadata": {},
   "outputs": [
    {
     "ename": "",
     "evalue": "",
     "output_type": "error",
     "traceback": [
      "\u001b[1;31mRunning cells with 'd:\\Amzen Problem HFCL\\venv\\python.exe' requires the ipykernel package.\n",
      "\u001b[1;31mRun the following command to install 'ipykernel' into the Python environment. \n",
      "\u001b[1;31mCommand: 'conda install -p d:\\Amzen Problem HFCL\\venv ipykernel --update-deps --force-reinstall'"
     ]
    }
   ],
   "source": [
    "slippage_data['days_to_next_refill'].describe()"
   ]
  },
  {
   "cell_type": "markdown",
   "metadata": {},
   "source": [
    "### Define a threshold for slippage as mean + 0.5 * standard deviation."
   ]
  },
  {
   "cell_type": "code",
   "execution_count": null,
   "metadata": {},
   "outputs": [
    {
     "ename": "",
     "evalue": "",
     "output_type": "error",
     "traceback": [
      "\u001b[1;31mRunning cells with 'd:\\Amzen Problem HFCL\\venv\\python.exe' requires the ipykernel package.\n",
      "\u001b[1;31mRun the following command to install 'ipykernel' into the Python environment. \n",
      "\u001b[1;31mCommand: 'conda install -p d:\\Amzen Problem HFCL\\venv ipykernel --update-deps --force-reinstall'"
     ]
    }
   ],
   "source": [
    "sns.histplot(slippage_data['days_to_next_refill'],kde=True)"
   ]
  },
  {
   "cell_type": "code",
   "execution_count": null,
   "metadata": {},
   "outputs": [
    {
     "ename": "",
     "evalue": "",
     "output_type": "error",
     "traceback": [
      "\u001b[1;31mRunning cells with 'd:\\Amzen Problem HFCL\\venv\\python.exe' requires the ipykernel package.\n",
      "\u001b[1;31mRun the following command to install 'ipykernel' into the Python environment. \n",
      "\u001b[1;31mCommand: 'conda install -p d:\\Amzen Problem HFCL\\venv ipykernel --update-deps --force-reinstall'"
     ]
    }
   ],
   "source": [
    "slippage_threshold_days = slippage_data['days_to_next_refill'].mean() + 0.5 * slippage_data['days_to_next_refill'].std()"
   ]
  },
  {
   "cell_type": "code",
   "execution_count": null,
   "metadata": {},
   "outputs": [
    {
     "ename": "",
     "evalue": "",
     "output_type": "error",
     "traceback": [
      "\u001b[1;31mRunning cells with 'd:\\Amzen Problem HFCL\\venv\\python.exe' requires the ipykernel package.\n",
      "\u001b[1;31mRun the following command to install 'ipykernel' into the Python environment. \n",
      "\u001b[1;31mCommand: 'conda install -p d:\\Amzen Problem HFCL\\venv ipykernel --update-deps --force-reinstall'"
     ]
    }
   ],
   "source": [
    "print('Slippage Threshold (days):', slippage_threshold_days)"
   ]
  },
  {
   "cell_type": "code",
   "execution_count": null,
   "metadata": {},
   "outputs": [
    {
     "ename": "",
     "evalue": "",
     "output_type": "error",
     "traceback": [
      "\u001b[1;31mRunning cells with 'd:\\Amzen Problem HFCL\\venv\\python.exe' requires the ipykernel package.\n",
      "\u001b[1;31mRun the following command to install 'ipykernel' into the Python environment. \n",
      "\u001b[1;31mCommand: 'conda install -p d:\\Amzen Problem HFCL\\venv ipykernel --update-deps --force-reinstall'"
     ]
    }
   ],
   "source": [
    "slippage_threshold_Copay_ammount=slippage_data[\"Copay amount\"].mean()+0.5*slippage_data[\"Copay amount\"].std()"
   ]
  },
  {
   "cell_type": "code",
   "execution_count": null,
   "metadata": {},
   "outputs": [
    {
     "ename": "",
     "evalue": "",
     "output_type": "error",
     "traceback": [
      "\u001b[1;31mRunning cells with 'd:\\Amzen Problem HFCL\\venv\\python.exe' requires the ipykernel package.\n",
      "\u001b[1;31mRun the following command to install 'ipykernel' into the Python environment. \n",
      "\u001b[1;31mCommand: 'conda install -p d:\\Amzen Problem HFCL\\venv ipykernel --update-deps --force-reinstall'"
     ]
    }
   ],
   "source": [
    "print('Slippage Threshold (Copay amount):', slippage_threshold_Copay_ammount)"
   ]
  },
  {
   "cell_type": "markdown",
   "metadata": {},
   "source": [
    "### here we can apply Slippage Threshold(Copay amount= 414.4720788288865 or days= 51.3113524510564)"
   ]
  },
  {
   "cell_type": "code",
   "execution_count": null,
   "metadata": {},
   "outputs": [
    {
     "ename": "",
     "evalue": "",
     "output_type": "error",
     "traceback": [
      "\u001b[1;31mRunning cells with 'd:\\Amzen Problem HFCL\\venv\\python.exe' requires the ipykernel package.\n",
      "\u001b[1;31mRun the following command to install 'ipykernel' into the Python environment. \n",
      "\u001b[1;31mCommand: 'conda install -p d:\\Amzen Problem HFCL\\venv ipykernel --update-deps --force-reinstall'"
     ]
    }
   ],
   "source": [
    "new_slippage_data=slippage_data[(slippage_data[\"Copay amount\"]> 414.4720788288865) | (slippage_data[\"days_to_next_refill\"]<51.3113524510564)]"
   ]
  },
  {
   "cell_type": "code",
   "execution_count": null,
   "metadata": {},
   "outputs": [
    {
     "ename": "",
     "evalue": "",
     "output_type": "error",
     "traceback": [
      "\u001b[1;31mRunning cells with 'd:\\Amzen Problem HFCL\\venv\\python.exe' requires the ipykernel package.\n",
      "\u001b[1;31mRun the following command to install 'ipykernel' into the Python environment. \n",
      "\u001b[1;31mCommand: 'conda install -p d:\\Amzen Problem HFCL\\venv ipykernel --update-deps --force-reinstall'"
     ]
    }
   ],
   "source": [
    "new_slippage_data"
   ]
  },
  {
   "cell_type": "code",
   "execution_count": null,
   "metadata": {},
   "outputs": [
    {
     "ename": "",
     "evalue": "",
     "output_type": "error",
     "traceback": [
      "\u001b[1;31mRunning cells with 'd:\\Amzen Problem HFCL\\venv\\python.exe' requires the ipykernel package.\n",
      "\u001b[1;31mRun the following command to install 'ipykernel' into the Python environment. \n",
      "\u001b[1;31mCommand: 'conda install -p d:\\Amzen Problem HFCL\\venv ipykernel --update-deps --force-reinstall'"
     ]
    }
   ],
   "source": [
    "new_slippage_data[\"Pat_Id\"].value_counts().plot(kind=\"hist\",bins=50)"
   ]
  },
  {
   "cell_type": "code",
   "execution_count": null,
   "metadata": {},
   "outputs": [
    {
     "ename": "",
     "evalue": "",
     "output_type": "error",
     "traceback": [
      "\u001b[1;31mRunning cells with 'd:\\Amzen Problem HFCL\\venv\\python.exe' requires the ipykernel package.\n",
      "\u001b[1;31mRun the following command to install 'ipykernel' into the Python environment. \n",
      "\u001b[1;31mCommand: 'conda install -p d:\\Amzen Problem HFCL\\venv ipykernel --update-deps --force-reinstall'"
     ]
    }
   ],
   "source": [
    "new_sllippage_data=slippage_data[(slippage_data[\"Copay amount\"]< 414.4720788288865) | (slippage_data[\"days_to_next_refill\"]>51.3113524510564)]"
   ]
  },
  {
   "cell_type": "code",
   "execution_count": null,
   "metadata": {},
   "outputs": [
    {
     "ename": "",
     "evalue": "",
     "output_type": "error",
     "traceback": [
      "\u001b[1;31mRunning cells with 'd:\\Amzen Problem HFCL\\venv\\python.exe' requires the ipykernel package.\n",
      "\u001b[1;31mRun the following command to install 'ipykernel' into the Python environment. \n",
      "\u001b[1;31mCommand: 'conda install -p d:\\Amzen Problem HFCL\\venv ipykernel --update-deps --force-reinstall'"
     ]
    }
   ],
   "source": [
    "import warnings\n",
    "warnings.filterwarnings(\"ignore\")"
   ]
  },
  {
   "cell_type": "code",
   "execution_count": null,
   "metadata": {},
   "outputs": [
    {
     "ename": "",
     "evalue": "",
     "output_type": "error",
     "traceback": [
      "\u001b[1;31mRunning cells with 'd:\\Amzen Problem HFCL\\venv\\python.exe' requires the ipykernel package.\n",
      "\u001b[1;31mRun the following command to install 'ipykernel' into the Python environment. \n",
      "\u001b[1;31mCommand: 'conda install -p d:\\Amzen Problem HFCL\\venv ipykernel --update-deps --force-reinstall'"
     ]
    }
   ],
   "source": [
    "new_sllippage_data['Drop'] = ((new_sllippage_data['Optin'] == 'N') | (new_sllippage_data['Card_Status'] == 'Expired')).astype(int)"
   ]
  },
  {
   "cell_type": "code",
   "execution_count": null,
   "metadata": {},
   "outputs": [
    {
     "ename": "",
     "evalue": "",
     "output_type": "error",
     "traceback": [
      "\u001b[1;31mRunning cells with 'd:\\Amzen Problem HFCL\\venv\\python.exe' requires the ipykernel package.\n",
      "\u001b[1;31mRun the following command to install 'ipykernel' into the Python environment. \n",
      "\u001b[1;31mCommand: 'conda install -p d:\\Amzen Problem HFCL\\venv ipykernel --update-deps --force-reinstall'"
     ]
    }
   ],
   "source": [
    "slippage_data=new_sllippage_data[(new_sllippage_data[\"Card_Status\"]==\"Expired\") | (new_sllippage_data[\"Optin\"]==\"N\")]"
   ]
  },
  {
   "cell_type": "code",
   "execution_count": null,
   "metadata": {},
   "outputs": [
    {
     "ename": "",
     "evalue": "",
     "output_type": "error",
     "traceback": [
      "\u001b[1;31mRunning cells with 'd:\\Amzen Problem HFCL\\venv\\python.exe' requires the ipykernel package.\n",
      "\u001b[1;31mRun the following command to install 'ipykernel' into the Python environment. \n",
      "\u001b[1;31mCommand: 'conda install -p d:\\Amzen Problem HFCL\\venv ipykernel --update-deps --force-reinstall'"
     ]
    }
   ],
   "source": [
    "print(f\" {slippage_data.shape[0]}  patients who potentially slipped from the system.\")"
   ]
  },
  {
   "cell_type": "markdown",
   "metadata": {},
   "source": [
    "###  ➡️15718  patients who potentially slipped from the system."
   ]
  },
  {
   "cell_type": "code",
   "execution_count": null,
   "metadata": {},
   "outputs": [
    {
     "ename": "",
     "evalue": "",
     "output_type": "error",
     "traceback": [
      "\u001b[1;31mRunning cells with 'd:\\Amzen Problem HFCL\\venv\\python.exe' requires the ipykernel package.\n",
      "\u001b[1;31mRun the following command to install 'ipykernel' into the Python environment. \n",
      "\u001b[1;31mCommand: 'conda install -p d:\\Amzen Problem HFCL\\venv ipykernel --update-deps --force-reinstall'"
     ]
    }
   ],
   "source": [
    "slippage_data.head()"
   ]
  },
  {
   "cell_type": "code",
   "execution_count": null,
   "metadata": {},
   "outputs": [
    {
     "ename": "",
     "evalue": "",
     "output_type": "error",
     "traceback": [
      "\u001b[1;31mRunning cells with 'd:\\Amzen Problem HFCL\\venv\\python.exe' requires the ipykernel package.\n",
      "\u001b[1;31mRun the following command to install 'ipykernel' into the Python environment. \n",
      "\u001b[1;31mCommand: 'conda install -p d:\\Amzen Problem HFCL\\venv ipykernel --update-deps --force-reinstall'"
     ]
    }
   ],
   "source": [
    "slippage_data.to_csv(\"D:\\HFCL _Case Study\\\\artifacts\\slippage_data.csv\")"
   ]
  },
  {
   "cell_type": "markdown",
   "metadata": {},
   "source": [
    "### ➡️Q2.\tSuggest possible approach to lower down the patient’s slippage, so to minimize overall loss."
   ]
  },
  {
   "cell_type": "code",
   "execution_count": null,
   "metadata": {},
   "outputs": [
    {
     "ename": "",
     "evalue": "",
     "output_type": "error",
     "traceback": [
      "\u001b[1;31mRunning cells with 'd:\\Amzen Problem HFCL\\venv\\python.exe' requires the ipykernel package.\n",
      "\u001b[1;31mRun the following command to install 'ipykernel' into the Python environment. \n",
      "\u001b[1;31mCommand: 'conda install -p d:\\Amzen Problem HFCL\\venv ipykernel --update-deps --force-reinstall'"
     ]
    }
   ],
   "source": []
  },
  {
   "cell_type": "code",
   "execution_count": null,
   "metadata": {},
   "outputs": [
    {
     "ename": "",
     "evalue": "",
     "output_type": "error",
     "traceback": [
      "\u001b[1;31mRunning cells with 'd:\\Amzen Problem HFCL\\venv\\python.exe' requires the ipykernel package.\n",
      "\u001b[1;31mRun the following command to install 'ipykernel' into the Python environment. \n",
      "\u001b[1;31mCommand: 'conda install -p d:\\Amzen Problem HFCL\\venv ipykernel --update-deps --force-reinstall'"
     ]
    }
   ],
   "source": []
  },
  {
   "cell_type": "markdown",
   "metadata": {},
   "source": [
    "### ➡️Q3.\tWeekly list Potential existing customers to be targeted."
   ]
  },
  {
   "cell_type": "code",
   "execution_count": null,
   "metadata": {},
   "outputs": [
    {
     "ename": "",
     "evalue": "",
     "output_type": "error",
     "traceback": [
      "\u001b[1;31mRunning cells with 'd:\\Amzen Problem HFCL\\venv\\python.exe' requires the ipykernel package.\n",
      "\u001b[1;31mRun the following command to install 'ipykernel' into the Python environment. \n",
      "\u001b[1;31mCommand: 'conda install -p d:\\Amzen Problem HFCL\\venv ipykernel --update-deps --force-reinstall'"
     ]
    }
   ],
   "source": [
    "existing_data=slippage_data[(slippage_data[\"Copay amount\"]> 414.4720788288865) | (slippage_data[\"days_to_next_refill\"]<51.3113524510564)]"
   ]
  },
  {
   "cell_type": "code",
   "execution_count": null,
   "metadata": {},
   "outputs": [
    {
     "ename": "",
     "evalue": "",
     "output_type": "error",
     "traceback": [
      "\u001b[1;31mRunning cells with 'd:\\Amzen Problem HFCL\\venv\\python.exe' requires the ipykernel package.\n",
      "\u001b[1;31mRun the following command to install 'ipykernel' into the Python environment. \n",
      "\u001b[1;31mCommand: 'conda install -p d:\\Amzen Problem HFCL\\venv ipykernel --update-deps --force-reinstall'"
     ]
    }
   ],
   "source": [
    "new_existing_data=existing_data[(existing_data[\"Card_Status\"]==\"Active\") | (existing_data[\"Optin\"]==\"Y\")]"
   ]
  },
  {
   "cell_type": "code",
   "execution_count": null,
   "metadata": {},
   "outputs": [
    {
     "ename": "",
     "evalue": "",
     "output_type": "error",
     "traceback": [
      "\u001b[1;31mRunning cells with 'd:\\Amzen Problem HFCL\\venv\\python.exe' requires the ipykernel package.\n",
      "\u001b[1;31mRun the following command to install 'ipykernel' into the Python environment. \n",
      "\u001b[1;31mCommand: 'conda install -p d:\\Amzen Problem HFCL\\venv ipykernel --update-deps --force-reinstall'"
     ]
    }
   ],
   "source": [
    "new_existing_data.head()"
   ]
  },
  {
   "cell_type": "markdown",
   "metadata": {},
   "source": [
    "### ➡️Q4.\tDesign a new/alternative copay scheme, which could be better used by the patients."
   ]
  },
  {
   "cell_type": "code",
   "execution_count": null,
   "metadata": {},
   "outputs": [
    {
     "ename": "",
     "evalue": "",
     "output_type": "error",
     "traceback": [
      "\u001b[1;31mRunning cells with 'd:\\Amzen Problem HFCL\\venv\\python.exe' requires the ipykernel package.\n",
      "\u001b[1;31mRun the following command to install 'ipykernel' into the Python environment. \n",
      "\u001b[1;31mCommand: 'conda install -p d:\\Amzen Problem HFCL\\venv ipykernel --update-deps --force-reinstall'"
     ]
    }
   ],
   "source": []
  }
 ],
 "metadata": {
  "kernelspec": {
   "display_name": "base",
   "language": "python",
   "name": "python3"
  },
  "language_info": {
   "codemirror_mode": {
    "name": "ipython",
    "version": 3
   },
   "file_extension": ".py",
   "mimetype": "text/x-python",
   "name": "python",
   "nbconvert_exporter": "python",
   "pygments_lexer": "ipython3",
   "version": "3.11.0"
  }
 },
 "nbformat": 4,
 "nbformat_minor": 2
}
