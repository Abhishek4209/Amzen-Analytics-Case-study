{
 "cells": [
  {
   "cell_type": "markdown",
   "metadata": {},
   "source": [
    "## **Business Challenge:**\n",
    "#### Amzen does not expect any new addition to their customer base due to above new scenario and they are entirely focused to retain existing customer base. They consider patient treatment status, Copay usage and adherence to therapy as crucial variable that could drive this analysis. Amzen wants to get possible answer to below mentioned problems:\n",
    "### 1.\tThe client wants to estimate slippage of the patients from their system.\n",
    "### 2.\tSuggest possible approach to lower down the patient’s slippage, so to minimize overall loss.\n",
    "### 3.\tWeekly list Potential existing customers to be targeted.\n",
    "### 4.\tDesign a new/alternative copay scheme, which could be better used by the patients.\n"
   ]
  },
  {
   "cell_type": "code",
   "execution_count": 1,
   "metadata": {},
   "outputs": [],
   "source": [
    "# pip install numpy"
   ]
  },
  {
   "cell_type": "code",
   "execution_count": 2,
   "metadata": {},
   "outputs": [],
   "source": [
    "import pandas as pd\n",
    "import numpy as np\n",
    "import seaborn as sns\n",
    "import matplotlib.pyplot as plt\n",
    "%matplotlib inline\n",
    "import pandas as pd\n",
    "from datetime import datetime"
   ]
  },
  {
   "cell_type": "code",
   "execution_count": 3,
   "metadata": {},
   "outputs": [
    {
     "data": {
      "text/html": [
       "<div>\n",
       "<style scoped>\n",
       "    .dataframe tbody tr th:only-of-type {\n",
       "        vertical-align: middle;\n",
       "    }\n",
       "\n",
       "    .dataframe tbody tr th {\n",
       "        vertical-align: top;\n",
       "    }\n",
       "\n",
       "    .dataframe thead th {\n",
       "        text-align: right;\n",
       "    }\n",
       "</style>\n",
       "<table border=\"1\" class=\"dataframe\">\n",
       "  <thead>\n",
       "    <tr style=\"text-align: right;\">\n",
       "      <th></th>\n",
       "      <th>Pat_Id</th>\n",
       "      <th>Copay amount</th>\n",
       "      <th>Refill_date</th>\n",
       "      <th>Optin</th>\n",
       "      <th>Card_Status</th>\n",
       "      <th>Channel</th>\n",
       "      <th>Next_refill_date</th>\n",
       "      <th>card no</th>\n",
       "    </tr>\n",
       "  </thead>\n",
       "  <tbody>\n",
       "    <tr>\n",
       "      <th>0</th>\n",
       "      <td>1</td>\n",
       "      <td>1745.71</td>\n",
       "      <td>2014-02-21</td>\n",
       "      <td>Y</td>\n",
       "      <td>Expired</td>\n",
       "      <td>Virtual</td>\n",
       "      <td>2014-03-23</td>\n",
       "      <td>1-1</td>\n",
       "    </tr>\n",
       "    <tr>\n",
       "      <th>1</th>\n",
       "      <td>2</td>\n",
       "      <td>35.00</td>\n",
       "      <td>2014-01-01</td>\n",
       "      <td>Y</td>\n",
       "      <td>Expired</td>\n",
       "      <td>Virtual</td>\n",
       "      <td>2014-01-31</td>\n",
       "      <td>1-2</td>\n",
       "    </tr>\n",
       "    <tr>\n",
       "      <th>2</th>\n",
       "      <td>3</td>\n",
       "      <td>50.00</td>\n",
       "      <td>2014-08-15</td>\n",
       "      <td>N</td>\n",
       "      <td>Active</td>\n",
       "      <td>Virtual</td>\n",
       "      <td>2014-09-14</td>\n",
       "      <td>1-3</td>\n",
       "    </tr>\n",
       "    <tr>\n",
       "      <th>3</th>\n",
       "      <td>3</td>\n",
       "      <td>50.00</td>\n",
       "      <td>2014-09-27</td>\n",
       "      <td>N</td>\n",
       "      <td>Active</td>\n",
       "      <td>Virtual</td>\n",
       "      <td>2014-12-26</td>\n",
       "      <td>1-3</td>\n",
       "    </tr>\n",
       "    <tr>\n",
       "      <th>4</th>\n",
       "      <td>3</td>\n",
       "      <td>50.00</td>\n",
       "      <td>2014-10-29</td>\n",
       "      <td>N</td>\n",
       "      <td>Active</td>\n",
       "      <td>Virtual</td>\n",
       "      <td>2015-01-27</td>\n",
       "      <td>1-3</td>\n",
       "    </tr>\n",
       "  </tbody>\n",
       "</table>\n",
       "</div>"
      ],
      "text/plain": [
       "   Pat_Id  Copay amount Refill_date Optin Card_Status  Channel  \\\n",
       "0       1       1745.71  2014-02-21     Y     Expired  Virtual   \n",
       "1       2         35.00  2014-01-01     Y     Expired  Virtual   \n",
       "2       3         50.00  2014-08-15     N      Active  Virtual   \n",
       "3       3         50.00  2014-09-27     N      Active  Virtual   \n",
       "4       3         50.00  2014-10-29     N      Active  Virtual   \n",
       "\n",
       "  Next_refill_date card no  \n",
       "0       2014-03-23     1-1  \n",
       "1       2014-01-31     1-2  \n",
       "2       2014-09-14     1-3  \n",
       "3       2014-12-26     1-3  \n",
       "4       2015-01-27     1-3  "
      ]
     },
     "execution_count": 3,
     "metadata": {},
     "output_type": "execute_result"
    }
   ],
   "source": [
    "data = pd.read_excel(r\"D:\\Amzen Problem HFCL\\notebooks\\data\\copay data2.xls\")\n",
    "data.head()"
   ]
  },
  {
   "cell_type": "code",
   "execution_count": 4,
   "metadata": {},
   "outputs": [
    {
     "data": {
      "text/plain": [
       "(55757, 8)"
      ]
     },
     "execution_count": 4,
     "metadata": {},
     "output_type": "execute_result"
    }
   ],
   "source": [
    "data.shape"
   ]
  },
  {
   "cell_type": "markdown",
   "metadata": {},
   "source": [
    "### ➡️Q1.\tThe client wants to estimate slippage of the patients from their system."
   ]
  },
  {
   "cell_type": "markdown",
   "metadata": {},
   "source": [
    "### Ans:-"
   ]
  },
  {
   "cell_type": "markdown",
   "metadata": {},
   "source": [
    "##### Identify the last refill date for each patient and determine if there is a subsequent refill date.\n",
    "##### Calculate the time difference between the last refill date and the next refill date.\n",
    "##### Calculate the Copay ammount for every given pat_id.\n",
    "\n",
    "##### Determine a threshold for what is considered a 'slip' .\n",
    "\n",
    "##### Count the number of patients who have slipped according to the threshold."
   ]
  },
  {
   "cell_type": "code",
   "execution_count": 5,
   "metadata": {},
   "outputs": [],
   "source": [
    "from datetime import datetime\n",
    "data['Refill_date'] = pd.to_datetime(data['Refill_date'])\n",
    "data['Next_refill_date'] = pd.to_datetime(data['Next_refill_date'], errors='coerce')"
   ]
  },
  {
   "cell_type": "markdown",
   "metadata": {},
   "source": [
    "### Calculate the difference in days between the refill date and the next refill date.\n",
    "### Drop rows where next refill date is NaT (not a time) or where the next refill date is before the refill date. "
   ]
  },
  {
   "cell_type": "code",
   "execution_count": 6,
   "metadata": {},
   "outputs": [],
   "source": [
    "slippage_data = data.dropna(subset=['Next_refill_date'])\n",
    "slippage_data = slippage_data[slippage_data['Next_refill_date'] > slippage_data['Refill_date']]\n",
    "slippage_data['days_to_next_refill'] = (slippage_data['Next_refill_date'] - slippage_data['Refill_date']).dt.days"
   ]
  },
  {
   "cell_type": "code",
   "execution_count": 7,
   "metadata": {},
   "outputs": [
    {
     "data": {
      "image/png": "[encoded data removed]",
      "text/plain": [
       "<Figure size 1000x600 with 1 Axes>"
      ]
     },
     "metadata": {},
     "output_type": "display_data"
    }
   ],
   "source": [
    "plt.figure(figsize=(10, 6))\n",
    "sns.countplot(x='days_to_next_refill', data=slippage_data)\n",
    "plt.title(\"days_to_next_refill\",c=\"r\")\n",
    "plt.xlabel(\"days\")\n",
    "plt.ylabel('Count')\n",
    "plt.show()"
   ]
  },
  {
   "cell_type": "code",
   "execution_count": 8,
   "metadata": {},
   "outputs": [
    {
     "data": {
      "text/plain": [
       "count    55757.000000\n",
       "mean        40.090572\n",
       "std         22.441562\n",
       "min         30.000000\n",
       "25%         30.000000\n",
       "50%         30.000000\n",
       "75%         30.000000\n",
       "max         90.000000\n",
       "Name: days_to_next_refill, dtype: float64"
      ]
     },
     "execution_count": 8,
     "metadata": {},
     "output_type": "execute_result"
    }
   ],
   "source": [
    "slippage_data['days_to_next_refill'].describe()"
   ]
  },
  {
   "cell_type": "markdown",
   "metadata": {},
   "source": [
    "### Define a threshold for slippage as mean + 0.5 * standard deviation."
   ]
  },
  {
   "cell_type": "code",
   "execution_count": 9,
   "metadata": {},
   "outputs": [
    {
     "data": {
      "text/plain": [
       "<Axes: xlabel='days_to_next_refill', ylabel='Count'>"
      ]
     },
     "execution_count": 9,
     "metadata": {},
     "output_type": "execute_result"
    },
    {
     "data": {
      "image/png": "[encoded data removed]",
      "text/plain": [
       "<Figure size 640x480 with 1 Axes>"
      ]
     },
     "metadata": {},
     "output_type": "display_data"
    }
   ],
   "source": [
    "sns.histplot(slippage_data['days_to_next_refill'],kde=True)"
   ]
  },
  {
   "cell_type": "code",
   "execution_count": 10,
   "metadata": {},
   "outputs": [],
   "source": [
    "slippage_threshold_days = slippage_data['days_to_next_refill'].mean() + 0.5 * slippage_data['days_to_next_refill'].std()"
   ]
  },
  {
   "cell_type": "code",
   "execution_count": 11,
   "metadata": {},
   "outputs": [
    {
     "name": "stdout",
     "output_type": "stream",
     "text": [
      "Slippage Threshold (days): 51.3113524510564\n"
     ]
    }
   ],
   "source": [
    "print('Slippage Threshold (days):', slippage_threshold_days)"
   ]
  },
  {
   "cell_type": "code",
   "execution_count": 12,
   "metadata": {},
   "outputs": [],
   "source": [
    "slippage_threshold_Copay_ammount=slippage_data[\"Copay amount\"].mean()+0.5*slippage_data[\"Copay amount\"].std()"
   ]
  },
  {
   "cell_type": "code",
   "execution_count": 13,
   "metadata": {},
   "outputs": [
    {
     "name": "stdout",
     "output_type": "stream",
     "text": [
      "Slippage Threshold (Copay amount): 414.4720788288865\n"
     ]
    }
   ],
   "source": [
    "print('Slippage Threshold (Copay amount):', slippage_threshold_Copay_ammount)"
   ]
  },
  {
   "cell_type": "markdown",
   "metadata": {},
   "source": [
    "### here we can apply Slippage Threshold(Copay amount= 414.4720788288865 or days= 51.3113524510564)"
   ]
  },
  {
   "cell_type": "code",
   "execution_count": 14,
   "metadata": {},
   "outputs": [],
   "source": [
    "new_slippage_data=slippage_data[(slippage_data[\"Copay amount\"]> 414.4720788288865) | (slippage_data[\"days_to_next_refill\"]<51.3113524510564)]"
   ]
  },
  {
   "cell_type": "code",
   "execution_count": 15,
   "metadata": {},
   "outputs": [
    {
     "data": {
      "text/html": [
       "<div>\n",
       "<style scoped>\n",
       "    .dataframe tbody tr th:only-of-type {\n",
       "        vertical-align: middle;\n",
       "    }\n",
       "\n",
       "    .dataframe tbody tr th {\n",
       "        vertical-align: top;\n",
       "    }\n",
       "\n",
       "    .dataframe thead th {\n",
       "        text-align: right;\n",
       "    }\n",
       "</style>\n",
       "<table border=\"1\" class=\"dataframe\">\n",
       "  <thead>\n",
       "    <tr style=\"text-align: right;\">\n",
       "      <th></th>\n",
       "      <th>Pat_Id</th>\n",
       "      <th>Copay amount</th>\n",
       "      <th>Refill_date</th>\n",
       "      <th>Optin</th>\n",
       "      <th>Card_Status</th>\n",
       "      <th>Channel</th>\n",
       "      <th>Next_refill_date</th>\n",
       "      <th>card no</th>\n",
       "      <th>days_to_next_refill</th>\n",
       "    </tr>\n",
       "  </thead>\n",
       "  <tbody>\n",
       "    <tr>\n",
       "      <th>0</th>\n",
       "      <td>1</td>\n",
       "      <td>1745.71</td>\n",
       "      <td>2014-02-21</td>\n",
       "      <td>Y</td>\n",
       "      <td>Expired</td>\n",
       "      <td>Virtual</td>\n",
       "      <td>2014-03-23</td>\n",
       "      <td>1-1</td>\n",
       "      <td>30</td>\n",
       "    </tr>\n",
       "    <tr>\n",
       "      <th>1</th>\n",
       "      <td>2</td>\n",
       "      <td>35.00</td>\n",
       "      <td>2014-01-01</td>\n",
       "      <td>Y</td>\n",
       "      <td>Expired</td>\n",
       "      <td>Virtual</td>\n",
       "      <td>2014-01-31</td>\n",
       "      <td>1-2</td>\n",
       "      <td>30</td>\n",
       "    </tr>\n",
       "    <tr>\n",
       "      <th>2</th>\n",
       "      <td>3</td>\n",
       "      <td>50.00</td>\n",
       "      <td>2014-08-15</td>\n",
       "      <td>N</td>\n",
       "      <td>Active</td>\n",
       "      <td>Virtual</td>\n",
       "      <td>2014-09-14</td>\n",
       "      <td>1-3</td>\n",
       "      <td>30</td>\n",
       "    </tr>\n",
       "    <tr>\n",
       "      <th>5</th>\n",
       "      <td>3</td>\n",
       "      <td>50.00</td>\n",
       "      <td>2014-11-03</td>\n",
       "      <td>N</td>\n",
       "      <td>Active</td>\n",
       "      <td>Virtual</td>\n",
       "      <td>2014-12-03</td>\n",
       "      <td>1-3</td>\n",
       "      <td>30</td>\n",
       "    </tr>\n",
       "    <tr>\n",
       "      <th>6</th>\n",
       "      <td>3</td>\n",
       "      <td>50.00</td>\n",
       "      <td>2014-12-09</td>\n",
       "      <td>N</td>\n",
       "      <td>Active</td>\n",
       "      <td>Virtual</td>\n",
       "      <td>2015-01-08</td>\n",
       "      <td>1-3</td>\n",
       "      <td>30</td>\n",
       "    </tr>\n",
       "    <tr>\n",
       "      <th>...</th>\n",
       "      <td>...</td>\n",
       "      <td>...</td>\n",
       "      <td>...</td>\n",
       "      <td>...</td>\n",
       "      <td>...</td>\n",
       "      <td>...</td>\n",
       "      <td>...</td>\n",
       "      <td>...</td>\n",
       "      <td>...</td>\n",
       "    </tr>\n",
       "    <tr>\n",
       "      <th>55751</th>\n",
       "      <td>10005</td>\n",
       "      <td>45.00</td>\n",
       "      <td>2014-04-01</td>\n",
       "      <td>N</td>\n",
       "      <td>Active</td>\n",
       "      <td>Virtual</td>\n",
       "      <td>2014-05-01</td>\n",
       "      <td>2-10005</td>\n",
       "      <td>30</td>\n",
       "    </tr>\n",
       "    <tr>\n",
       "      <th>55752</th>\n",
       "      <td>10005</td>\n",
       "      <td>35.00</td>\n",
       "      <td>2014-05-01</td>\n",
       "      <td>N</td>\n",
       "      <td>Active</td>\n",
       "      <td>Virtual</td>\n",
       "      <td>2014-05-31</td>\n",
       "      <td>2-10005</td>\n",
       "      <td>30</td>\n",
       "    </tr>\n",
       "    <tr>\n",
       "      <th>55753</th>\n",
       "      <td>10005</td>\n",
       "      <td>80.00</td>\n",
       "      <td>2014-07-01</td>\n",
       "      <td>N</td>\n",
       "      <td>Active</td>\n",
       "      <td>Virtual</td>\n",
       "      <td>2014-07-31</td>\n",
       "      <td>2-10005</td>\n",
       "      <td>30</td>\n",
       "    </tr>\n",
       "    <tr>\n",
       "      <th>55754</th>\n",
       "      <td>10005</td>\n",
       "      <td>45.00</td>\n",
       "      <td>2014-08-01</td>\n",
       "      <td>N</td>\n",
       "      <td>Active</td>\n",
       "      <td>Virtual</td>\n",
       "      <td>2014-08-31</td>\n",
       "      <td>2-10005</td>\n",
       "      <td>30</td>\n",
       "    </tr>\n",
       "    <tr>\n",
       "      <th>55756</th>\n",
       "      <td>10005</td>\n",
       "      <td>45.00</td>\n",
       "      <td>2014-11-01</td>\n",
       "      <td>N</td>\n",
       "      <td>Active</td>\n",
       "      <td>Virtual</td>\n",
       "      <td>2014-12-01</td>\n",
       "      <td>2-10005</td>\n",
       "      <td>30</td>\n",
       "    </tr>\n",
       "  </tbody>\n",
       "</table>\n",
       "<p>47052 rows × 9 columns</p>\n",
       "</div>"
      ],
      "text/plain": [
       "       Pat_Id  Copay amount Refill_date Optin Card_Status  Channel  \\\n",
       "0           1       1745.71  2014-02-21     Y     Expired  Virtual   \n",
       "1           2         35.00  2014-01-01     Y     Expired  Virtual   \n",
       "2           3         50.00  2014-08-15     N      Active  Virtual   \n",
       "5           3         50.00  2014-11-03     N      Active  Virtual   \n",
       "6           3         50.00  2014-12-09     N      Active  Virtual   \n",
       "...       ...           ...         ...   ...         ...      ...   \n",
       "55751   10005         45.00  2014-04-01     N      Active  Virtual   \n",
       "55752   10005         35.00  2014-05-01     N      Active  Virtual   \n",
       "55753   10005         80.00  2014-07-01     N      Active  Virtual   \n",
       "55754   10005         45.00  2014-08-01     N      Active  Virtual   \n",
       "55756   10005         45.00  2014-11-01     N      Active  Virtual   \n",
       "\n",
       "      Next_refill_date  card no  days_to_next_refill  \n",
       "0           2014-03-23      1-1                   30  \n",
       "1           2014-01-31      1-2                   30  \n",
       "2           2014-09-14      1-3                   30  \n",
       "5           2014-12-03      1-3                   30  \n",
       "6           2015-01-08      1-3                   30  \n",
       "...                ...      ...                  ...  \n",
       "55751       2014-05-01  2-10005                   30  \n",
       "55752       2014-05-31  2-10005                   30  \n",
       "55753       2014-07-31  2-10005                   30  \n",
       "55754       2014-08-31  2-10005                   30  \n",
       "55756       2014-12-01  2-10005                   30  \n",
       "\n",
       "[47052 rows x 9 columns]"
      ]
     },
     "execution_count": 15,
     "metadata": {},
     "output_type": "execute_result"
    }
   ],
   "source": [
    "new_slippage_data"
   ]
  },
  {
   "cell_type": "code",
   "execution_count": 16,
   "metadata": {},
   "outputs": [
    {
     "data": {
      "text/plain": [
       "<Axes: ylabel='Frequency'>"
      ]
     },
     "execution_count": 16,
     "metadata": {},
     "output_type": "execute_result"
    },
    {
     "data": {
      "image/png": "[encoded data removed]",
      "text/plain": [
       "<Figure size 640x480 with 1 Axes>"
      ]
     },
     "metadata": {},
     "output_type": "display_data"
    }
   ],
   "source": [
    "new_slippage_data[\"Pat_Id\"].value_counts().plot(kind=\"hist\",bins=50)"
   ]
  },
  {
   "cell_type": "code",
   "execution_count": 17,
   "metadata": {},
   "outputs": [],
   "source": [
    "new_sllippage_data=slippage_data[(slippage_data[\"Copay amount\"]< 414.4720788288865) | (slippage_data[\"days_to_next_refill\"]>51.3113524510564)]"
   ]
  },
  {
   "cell_type": "code",
   "execution_count": 18,
   "metadata": {},
   "outputs": [],
   "source": [
    "import warnings\n",
    "warnings.filterwarnings(\"ignore\")"
   ]
  },
  {
   "cell_type": "code",
   "execution_count": 19,
   "metadata": {},
   "outputs": [],
   "source": [
    "new_sllippage_data['Drop'] = ((new_sllippage_data['Optin'] == 'N') | (new_sllippage_data['Card_Status'] == 'Expired')).astype(int)"
   ]
  },
  {
   "cell_type": "code",
   "execution_count": 20,
   "metadata": {},
   "outputs": [],
   "source": [
    "slippage_data=new_sllippage_data[(new_sllippage_data[\"Card_Status\"]==\"Expired\") | (new_sllippage_data[\"Optin\"]==\"N\")]"
   ]
  },
  {
   "cell_type": "code",
   "execution_count": 21,
   "metadata": {},
   "outputs": [
    {
     "name": "stdout",
     "output_type": "stream",
     "text": [
      " 15718  patients who potentially slipped from the system.\n"
     ]
    }
   ],
   "source": [
    "print(f\" {slippage_data.shape[0]}  patients who potentially slipped from the system.\")"
   ]
  },
  {
   "cell_type": "markdown",
   "metadata": {},
   "source": [
    "```\n",
    "➡️15718  patients who potentially slipped from the system.\n",
    "```"
   ]
  },
  {
   "cell_type": "code",
   "execution_count": 22,
   "metadata": {},
   "outputs": [
    {
     "data": {
      "text/html": [
       "<div>\n",
       "<style scoped>\n",
       "    .dataframe tbody tr th:only-of-type {\n",
       "        vertical-align: middle;\n",
       "    }\n",
       "\n",
       "    .dataframe tbody tr th {\n",
       "        vertical-align: top;\n",
       "    }\n",
       "\n",
       "    .dataframe thead th {\n",
       "        text-align: right;\n",
       "    }\n",
       "</style>\n",
       "<table border=\"1\" class=\"dataframe\">\n",
       "  <thead>\n",
       "    <tr style=\"text-align: right;\">\n",
       "      <th></th>\n",
       "      <th>Pat_Id</th>\n",
       "      <th>Copay amount</th>\n",
       "      <th>Refill_date</th>\n",
       "      <th>Optin</th>\n",
       "      <th>Card_Status</th>\n",
       "      <th>Channel</th>\n",
       "      <th>Next_refill_date</th>\n",
       "      <th>card no</th>\n",
       "      <th>days_to_next_refill</th>\n",
       "      <th>Drop</th>\n",
       "    </tr>\n",
       "  </thead>\n",
       "  <tbody>\n",
       "    <tr>\n",
       "      <th>1</th>\n",
       "      <td>2</td>\n",
       "      <td>35.0</td>\n",
       "      <td>2014-01-01</td>\n",
       "      <td>Y</td>\n",
       "      <td>Expired</td>\n",
       "      <td>Virtual</td>\n",
       "      <td>2014-01-31</td>\n",
       "      <td>1-2</td>\n",
       "      <td>30</td>\n",
       "      <td>1</td>\n",
       "    </tr>\n",
       "    <tr>\n",
       "      <th>2</th>\n",
       "      <td>3</td>\n",
       "      <td>50.0</td>\n",
       "      <td>2014-08-15</td>\n",
       "      <td>N</td>\n",
       "      <td>Active</td>\n",
       "      <td>Virtual</td>\n",
       "      <td>2014-09-14</td>\n",
       "      <td>1-3</td>\n",
       "      <td>30</td>\n",
       "      <td>1</td>\n",
       "    </tr>\n",
       "    <tr>\n",
       "      <th>3</th>\n",
       "      <td>3</td>\n",
       "      <td>50.0</td>\n",
       "      <td>2014-09-27</td>\n",
       "      <td>N</td>\n",
       "      <td>Active</td>\n",
       "      <td>Virtual</td>\n",
       "      <td>2014-12-26</td>\n",
       "      <td>1-3</td>\n",
       "      <td>90</td>\n",
       "      <td>1</td>\n",
       "    </tr>\n",
       "    <tr>\n",
       "      <th>4</th>\n",
       "      <td>3</td>\n",
       "      <td>50.0</td>\n",
       "      <td>2014-10-29</td>\n",
       "      <td>N</td>\n",
       "      <td>Active</td>\n",
       "      <td>Virtual</td>\n",
       "      <td>2015-01-27</td>\n",
       "      <td>1-3</td>\n",
       "      <td>90</td>\n",
       "      <td>1</td>\n",
       "    </tr>\n",
       "    <tr>\n",
       "      <th>5</th>\n",
       "      <td>3</td>\n",
       "      <td>50.0</td>\n",
       "      <td>2014-11-03</td>\n",
       "      <td>N</td>\n",
       "      <td>Active</td>\n",
       "      <td>Virtual</td>\n",
       "      <td>2014-12-03</td>\n",
       "      <td>1-3</td>\n",
       "      <td>30</td>\n",
       "      <td>1</td>\n",
       "    </tr>\n",
       "  </tbody>\n",
       "</table>\n",
       "</div>"
      ],
      "text/plain": [
       "   Pat_Id  Copay amount Refill_date Optin Card_Status  Channel  \\\n",
       "1       2          35.0  2014-01-01     Y     Expired  Virtual   \n",
       "2       3          50.0  2014-08-15     N      Active  Virtual   \n",
       "3       3          50.0  2014-09-27     N      Active  Virtual   \n",
       "4       3          50.0  2014-10-29     N      Active  Virtual   \n",
       "5       3          50.0  2014-11-03     N      Active  Virtual   \n",
       "\n",
       "  Next_refill_date card no  days_to_next_refill  Drop  \n",
       "1       2014-01-31     1-2                   30     1  \n",
       "2       2014-09-14     1-3                   30     1  \n",
       "3       2014-12-26     1-3                   90     1  \n",
       "4       2015-01-27     1-3                   90     1  \n",
       "5       2014-12-03     1-3                   30     1  "
      ]
     },
     "execution_count": 22,
     "metadata": {},
     "output_type": "execute_result"
    }
   ],
   "source": [
    "slippage_data.head()"
   ]
  },
  {
   "cell_type": "code",
   "execution_count": 36,
   "metadata": {},
   "outputs": [],
   "source": [
    "slippage_data.to_csv(\"D:\\Amzen Problem HFCL\\\\artifacts\\\\slippage_data\")"
   ]
  },
  {
   "cell_type": "code",
   "execution_count": null,
   "metadata": {},
   "outputs": [],
   "source": []
  },
  {
   "cell_type": "code",
   "execution_count": null,
   "metadata": {},
   "outputs": [],
   "source": []
  },
  {
   "cell_type": "markdown",
   "metadata": {},
   "source": [
    "### ➡️Q2.\tSuggest possible approach to lower down the patient’s slippage, so to minimize overall loss."
   ]
  },
  {
   "cell_type": "code",
   "execution_count": null,
   "metadata": {},
   "outputs": [],
   "source": []
  },
  {
   "cell_type": "code",
   "execution_count": null,
   "metadata": {},
   "outputs": [],
   "source": []
  },
  {
   "cell_type": "markdown",
   "metadata": {},
   "source": [
    "### ➡️Q3.\tWeekly list Potential existing customers to be targeted."
   ]
  },
  {
   "cell_type": "code",
   "execution_count": 37,
   "metadata": {},
   "outputs": [],
   "source": [
    "existing_data=slippage_data[(slippage_data[\"Copay amount\"]> 414.4720788288865) | (slippage_data[\"days_to_next_refill\"]<51.3113524510564)]"
   ]
  },
  {
   "cell_type": "code",
   "execution_count": 38,
   "metadata": {},
   "outputs": [],
   "source": [
    "new_existing_data=existing_data[(existing_data[\"Card_Status\"]==\"Active\") | (existing_data[\"Optin\"]==\"Y\")]"
   ]
  },
  {
   "cell_type": "code",
   "execution_count": 39,
   "metadata": {},
   "outputs": [
    {
     "data": {
      "text/html": [
       "<div>\n",
       "<style scoped>\n",
       "    .dataframe tbody tr th:only-of-type {\n",
       "        vertical-align: middle;\n",
       "    }\n",
       "\n",
       "    .dataframe tbody tr th {\n",
       "        vertical-align: top;\n",
       "    }\n",
       "\n",
       "    .dataframe thead th {\n",
       "        text-align: right;\n",
       "    }\n",
       "</style>\n",
       "<table border=\"1\" class=\"dataframe\">\n",
       "  <thead>\n",
       "    <tr style=\"text-align: right;\">\n",
       "      <th></th>\n",
       "      <th>Pat_Id</th>\n",
       "      <th>Copay amount</th>\n",
       "      <th>Refill_date</th>\n",
       "      <th>Optin</th>\n",
       "      <th>Card_Status</th>\n",
       "      <th>Channel</th>\n",
       "      <th>Next_refill_date</th>\n",
       "      <th>card no</th>\n",
       "      <th>days_to_next_refill</th>\n",
       "      <th>Drop</th>\n",
       "    </tr>\n",
       "  </thead>\n",
       "  <tbody>\n",
       "    <tr>\n",
       "      <th>1</th>\n",
       "      <td>2</td>\n",
       "      <td>35.0</td>\n",
       "      <td>2014-01-01</td>\n",
       "      <td>Y</td>\n",
       "      <td>Expired</td>\n",
       "      <td>Virtual</td>\n",
       "      <td>2014-01-31</td>\n",
       "      <td>1-2</td>\n",
       "      <td>30</td>\n",
       "      <td>1</td>\n",
       "    </tr>\n",
       "    <tr>\n",
       "      <th>2</th>\n",
       "      <td>3</td>\n",
       "      <td>50.0</td>\n",
       "      <td>2014-08-15</td>\n",
       "      <td>N</td>\n",
       "      <td>Active</td>\n",
       "      <td>Virtual</td>\n",
       "      <td>2014-09-14</td>\n",
       "      <td>1-3</td>\n",
       "      <td>30</td>\n",
       "      <td>1</td>\n",
       "    </tr>\n",
       "    <tr>\n",
       "      <th>5</th>\n",
       "      <td>3</td>\n",
       "      <td>50.0</td>\n",
       "      <td>2014-11-03</td>\n",
       "      <td>N</td>\n",
       "      <td>Active</td>\n",
       "      <td>Virtual</td>\n",
       "      <td>2014-12-03</td>\n",
       "      <td>1-3</td>\n",
       "      <td>30</td>\n",
       "      <td>1</td>\n",
       "    </tr>\n",
       "    <tr>\n",
       "      <th>6</th>\n",
       "      <td>3</td>\n",
       "      <td>50.0</td>\n",
       "      <td>2014-12-09</td>\n",
       "      <td>N</td>\n",
       "      <td>Active</td>\n",
       "      <td>Virtual</td>\n",
       "      <td>2015-01-08</td>\n",
       "      <td>1-3</td>\n",
       "      <td>30</td>\n",
       "      <td>1</td>\n",
       "    </tr>\n",
       "    <tr>\n",
       "      <th>11</th>\n",
       "      <td>6</td>\n",
       "      <td>20.0</td>\n",
       "      <td>2014-04-30</td>\n",
       "      <td>N</td>\n",
       "      <td>Active</td>\n",
       "      <td>Virtual</td>\n",
       "      <td>2014-05-30</td>\n",
       "      <td>1-6</td>\n",
       "      <td>30</td>\n",
       "      <td>1</td>\n",
       "    </tr>\n",
       "  </tbody>\n",
       "</table>\n",
       "</div>"
      ],
      "text/plain": [
       "    Pat_Id  Copay amount Refill_date Optin Card_Status  Channel  \\\n",
       "1        2          35.0  2014-01-01     Y     Expired  Virtual   \n",
       "2        3          50.0  2014-08-15     N      Active  Virtual   \n",
       "5        3          50.0  2014-11-03     N      Active  Virtual   \n",
       "6        3          50.0  2014-12-09     N      Active  Virtual   \n",
       "11       6          20.0  2014-04-30     N      Active  Virtual   \n",
       "\n",
       "   Next_refill_date card no  days_to_next_refill  Drop  \n",
       "1        2014-01-31     1-2                   30     1  \n",
       "2        2014-09-14     1-3                   30     1  \n",
       "5        2014-12-03     1-3                   30     1  \n",
       "6        2015-01-08     1-3                   30     1  \n",
       "11       2014-05-30     1-6                   30     1  "
      ]
     },
     "execution_count": 39,
     "metadata": {},
     "output_type": "execute_result"
    }
   ],
   "source": [
    "new_existing_data.head()"
   ]
  },
  {
   "cell_type": "markdown",
   "metadata": {},
   "source": [
    "### ➡️Q4.\tDesign a new/alternative copay scheme, which could be better used by the patients."
   ]
  },
  {
   "cell_type": "code",
   "execution_count": null,
   "metadata": {},
   "outputs": [],
   "source": []
  }
 ],
 "metadata": {
  "kernelspec": {
   "display_name": "base",
   "language": "python",
   "name": "python3"
  },
  "language_info": {
   "codemirror_mode": {
    "name": "ipython",
    "version": 3
   },
   "file_extension": ".py",
   "mimetype": "text/x-python",
   "name": "python",
   "nbconvert_exporter": "python",
   "pygments_lexer": "ipython3",
   "version": "3.11.5"
  }
 },
 "nbformat": 4,
 "nbformat_minor": 2
}
